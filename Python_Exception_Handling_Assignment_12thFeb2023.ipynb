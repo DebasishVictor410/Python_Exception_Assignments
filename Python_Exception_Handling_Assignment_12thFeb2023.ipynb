{
 "cells": [
  {
   "cell_type": "markdown",
   "id": "ff69bf74",
   "metadata": {},
   "source": [
    "### Q1. What is an exception in python? Write the difference between Exception and Syntax error."
   ]
  },
  {
   "cell_type": "code",
   "execution_count": 22,
   "id": "eca6a4ed",
   "metadata": {},
   "outputs": [],
   "source": [
    "#### An error occurs in a program which prevents the program from \n",
    "#### completing its job. \n",
    "#### If we compare it with an exception then we can say that\n",
    "#### It is a condition that interrupts the normal flow of the program. \n",
    "#### Both errors and exceptions runtime error, which means they \n",
    "#### They occur during the execution of a program.\n",
    "\n",
    "\n",
    "#### Differences\n",
    "#### The syntax error is a common error\n",
    "#### It happened when we do any mistake in writing codes\n",
    "#### It occurs when the error is related to proagramming grammar\n",
    "#### We make syntactical error which creating function , block of codes.\n",
    "#### Actually it is like punctuation mark missing \n",
    "#### if we relate it with English\n",
    "#### On the other hand , Exception also breaks the normal flow of code\n",
    "#### But we can handle that with try except block\n",
    "#### And if it occurs then can avoid it\n",
    "#### But when syntactical error occurs then until we write the correct \n",
    "#### syntax for that particular statement it stops.\n",
    "#### In contrary, we can avoid that error in Exception and with the help\n",
    "#### of else or finally we can still run our program\n",
    "#### Its not possible in syntax error\n",
    "#### And syntax error is compile time error\n",
    "#### where Exception is runtime error or execution time error."
   ]
  },
  {
   "cell_type": "markdown",
   "id": "72e1f170",
   "metadata": {},
   "source": [
    "### Q2. What happens when exception is not handled? Explain with example"
   ]
  },
  {
   "cell_type": "code",
   "execution_count": 14,
   "id": "cc5e0e79",
   "metadata": {
    "scrolled": true
   },
   "outputs": [
    {
     "name": "stdout",
     "output_type": "stream",
     "text": [
      "Error occured.And it is division by zero\n",
      "TypeError Occurred\n",
      "Enter a number:: vij\n",
      "IO error occurred invalid literal for int() with base 10: 'vij'\n"
     ]
    }
   ],
   "source": [
    "#### An exception frequently has a reason that is not related to the program\n",
    "#### As an illustration, consider a bad input, a broken IO device, etc. \n",
    "#### The software may harm system resources\n",
    "#### such as files, because it quits abruptly when it encounters an exception. \n",
    "#### Therefore, it is important to handle exceptions correctly \n",
    "#### To avoid a program shutdown unexpectedly we should try block\n",
    "#### If exception is not handled then program stops running\n",
    "#### And then we see an error message or 'File not found error'\n",
    "#### 'IO error','Arithmatic error','ZeroDivision error' etc\n",
    "\n",
    "\n",
    "#### Here program runs because of handling the error \n",
    "#### As we cannot divide any number with 0\n",
    "#### try block detects the error and throws it to except block\n",
    "#### then except block handles it\n",
    "#### thus this block of codes doesn't crush\n",
    "#### Here program cannot run if its not handled with try block\n",
    "#### So gives an error message and display the message\n",
    "#### Progrmas crashs.\n",
    "#### gives the error message \"ZeroDivisionError: division by zero\"\n",
    "\n",
    "#### example 1\n",
    "a=5\n",
    "try:\n",
    "    res=a/0\n",
    "    print(\"Result is \",res)\n",
    "except Exception as e:\n",
    "    print(f'Error occured.And it is {e}')\n",
    "    \n",
    "\n",
    "\n",
    "    \n",
    "#### Here we are trying to add a integer number with string\n",
    "#### but their types are not same\n",
    "#### so it will give error\n",
    "#### program will crash\n",
    "#### but we handle it with try except block\n",
    "\n",
    "#### example 2\n",
    "try:\n",
    "    a=5\n",
    "    b='0'\n",
    "    print(a+b)\n",
    "except TypeError:\n",
    "    print('TypeError Occurred')\n",
    "except:\n",
    "    print('Some error occurred.') \n",
    "\n",
    "\n",
    "#### Here in this example we are taking input of int\n",
    "#### but given input is a string\n",
    "#### so IO error occurs\n",
    "#### we here handle it so that program doesnot crashes\n",
    "try:\n",
    "    a=int(input(\"Enter a number:: \"))\n",
    "except Exception as e:\n",
    "    print('IO error occurred',e) \n"
   ]
  },
  {
   "cell_type": "markdown",
   "id": "00c6608b",
   "metadata": {},
   "source": [
    "### Q3. Which python statements are used to catch and handle exceptions? Explain with an example."
   ]
  },
  {
   "cell_type": "code",
   "execution_count": 16,
   "id": "8a8c8c2b",
   "metadata": {},
   "outputs": [
    {
     "name": "stdout",
     "output_type": "stream",
     "text": [
      "Error occured.And it is division by zero\n",
      "[Errno 2] No such file or directory: 'file.txt'\n"
     ]
    }
   ],
   "source": [
    "#### Python uses the try and except block to catch and manage exceptions.\n",
    "#### Python runs the code that comes after the try statement \n",
    "#### as part of the program's \"normal\" operation.\n",
    "#### if any error is inspected in try block then it comes to except\n",
    "#### actually try block is responsible to identufy any error\n",
    "#### if any problem that comes before the except statement \n",
    "#### actually it is responsible for fetching that exception type\n",
    "\n",
    "#### example 1\n",
    "a=5\n",
    "try:\n",
    "    res=a/0\n",
    "    print(\"Result is \",res)\n",
    "except Exception as e:\n",
    "    print(f'Error occured.And it is {e}')\n",
    "    \n",
    "#### Explanation...\n",
    "#### Here firstly we declare a variable a and give it a value 5\n",
    "#### Then when comes to try block it sees that res is not possible\n",
    "#### as we cannot divide by 0. \n",
    "#### Actually try block fetches the exception\n",
    "#### Then it throws that to except block\n",
    "#### except block checks which kind of block it is by using Exception class\n",
    "#### founds that error and using print statement we print it.\n",
    "#### Here try block is responsible for catching that error\n",
    "#### except block is responsible for manipulate that\n",
    "\n",
    "\n",
    "#### example 2\n",
    "try:\n",
    "    open('file.txt','r')\n",
    "except Exception as e:\n",
    "    print(e)\n",
    "\n",
    "#### Explanation...\n",
    "#### Here we want to open a file\n",
    "#### which is not there\n",
    "#### even its not created\n",
    "#### so at the run time python interpreter doesnot find any file\n",
    "#### so it will give error\n",
    "#### it would crash if we donot handle it properly"
   ]
  },
  {
   "cell_type": "markdown",
   "id": "96e9cf5b",
   "metadata": {},
   "source": [
    "### Q4. Explain with example\n",
    "#### try and else\n",
    "#### finally\n",
    "#### raise"
   ]
  },
  {
   "cell_type": "code",
   "execution_count": 17,
   "id": "e89b9f6c",
   "metadata": {},
   "outputs": [
    {
     "name": "stdout",
     "output_type": "stream",
     "text": [
      "Result is  1.0\n",
      "Successful Execution\n",
      "\n",
      "Error occured.And it is division by zero\n",
      "Finally block always runs. Here with error\n",
      "\n",
      "Result is  2.5\n",
      "Finally block always runs. Here without error\n",
      "\n",
      "Win number\n",
      "Sry!!! you lost!\n"
     ]
    }
   ],
   "source": [
    "#### if try block successfuly excutes that code then else runs\n",
    "#### otherwise not\n",
    "#### finally will always run whether there error occurs or not\n",
    "#### when we need to create our own custom error message then we use raise\n",
    "#### with raise we create exception which is not in Exception inbuilt class\n",
    "\n",
    "#### try ... else\n",
    "#### The code that is susceptible to errors is found in the try-clause.\n",
    "#### The script will move on to the except-clauses if there is a mistake \n",
    "#### in the try-clause. \n",
    "#### If no mistakes were reported, the else-clause will be reached \n",
    "a=5\n",
    "try:\n",
    "    res=a/5\n",
    "    print(\"Result is \",res)\n",
    "except Exception as e:\n",
    "    print(f'Error occured.And it is {e}')\n",
    "else:\n",
    "    print('Successful Execution')\n",
    "    \n",
    "print()    \n",
    "\n",
    "#### finally\n",
    "#### The finally-clause usually executes everytime\n",
    "#### it will follows the try, except, and else clauses. \n",
    "#### even when the try-clause error wasn't caught then it executes\n",
    "#### or when the issue happened in an except block\n",
    "#### also after the else-clause.\n",
    "a=5\n",
    "try:\n",
    "    res=a/0\n",
    "    print(\"Result is \",res)\n",
    "except Exception as e:\n",
    "    print(f'Error occured.And it is {e}')\n",
    "finally:\n",
    "    print('Finally block always runs. Here with error')\n",
    "\n",
    "print()\n",
    "\n",
    "a=5\n",
    "try:\n",
    "    res=a/2\n",
    "    print(\"Result is \",res)\n",
    "except Exception as e:\n",
    "    print(f'Error occured.And it is {e}')\n",
    "finally:\n",
    "    print('Finally block always runs. Here without error')\n",
    "    \n",
    "print()\n",
    "\n",
    "#### raise\n",
    "#### When a condition is not satisfied or a mistake occurs in the code\n",
    "#### the raise keyword raises a specified exception. \n",
    "#### Either an instance of an exception or a class of exceptions may be raised\n",
    "#### it is done by the software. \n",
    "#### You can specify the type of errors using raise \n",
    "#### for a specific exception by using the raise keyword.\n",
    "#### or in some cases we can raise exception based on our demand\n",
    "number=10\n",
    "class Validate_Class(Exception):\n",
    "    def __init__(self,mes):\n",
    "        self.mes=mes\n",
    "\n",
    "def Validate_Fun(number):\n",
    "    if number%2==1:\n",
    "        print(\"Win number\")\n",
    "    else:\n",
    "        raise Validate_Class('Sry!!! you lost!')\n",
    "    \n",
    "try :\n",
    "    res=Validate_Fun(5)\n",
    "    res2=Validate_Fun(6)\n",
    "    \n",
    "except Validate_Class as e:\n",
    "    print(e)"
   ]
  },
  {
   "cell_type": "markdown",
   "id": "e21ddbf3",
   "metadata": {},
   "source": [
    "### Q5. What is custom exception ? Why we need that? Explain with example."
   ]
  },
  {
   "cell_type": "code",
   "execution_count": 18,
   "id": "4cec94cc",
   "metadata": {},
   "outputs": [
    {
     "name": "stdout",
     "output_type": "stream",
     "text": [
      "Lucky number\n",
      "Good luck next time\n"
     ]
    }
   ],
   "source": [
    "#### raise is custom exception\n",
    "#### we need that as our demand\n",
    "#### when we create our own app then it might be required that in some\n",
    "#### specific situation we cannot do that.\n",
    "#### and as an admin we want to notify an error message\n",
    "#### it custom so depends on the exception creator\n",
    "#### in which situation they need that\n",
    "#### for creation custom exception we inherits Mother Exception class\n",
    "#### It actually situation demands\n",
    "#### Using custom exceptions can help us make Python's readability \n",
    "#### and usability even better\n",
    "#### especially while we are creating our package. \n",
    "#### we can run the risk of making Python less readable \n",
    "#### if you opt to use only built-in exceptions and avoid custom ones \n",
    "#### we can raise exception or custom exception regarding our necessity\n",
    "#### in builtin exception class there is only hardcoded exception\n",
    "#### we cannot create our manually designed exception based on customers demand\n",
    "#### In real world problems like e-commerce, web app , application type\n",
    "#### we need that custom exception \n",
    "#### if there were not any opportunity for creating custom exception then\n",
    "#### manupulation of exception was not possible\n",
    "#### it makes programmers life easy\n",
    "#### it gives us open space for designing our product as per as our need\n",
    "#### example\n",
    "number=5\n",
    "class Validate_Class(Exception):\n",
    "    def __init__(self,mes):\n",
    "        self.mes=mes\n",
    "\n",
    "def Validate_Fun(number):\n",
    "    if number%5==0:\n",
    "        print(\"Lucky number\")\n",
    "    else:\n",
    "        raise Validate_Class('Good luck next time')\n",
    "    \n",
    "try :\n",
    "    res=Validate_Fun(50)\n",
    "    res2=Validate_Fun(56)\n",
    "    \n",
    "except Validate_Class as e:\n",
    "    print(e)"
   ]
  },
  {
   "cell_type": "markdown",
   "id": "de4f34cf",
   "metadata": {},
   "source": [
    "### Q6. Create custom exception class. Handle exception with that"
   ]
  },
  {
   "cell_type": "code",
   "execution_count": 19,
   "id": "68370025",
   "metadata": {},
   "outputs": [
    {
     "name": "stdout",
     "output_type": "stream",
     "text": [
      "Enter Email symbol or notation::jj\n",
      "Try again....\n"
     ]
    }
   ],
   "source": [
    "string=input(\"Enter Email symbol or notation::\")\n",
    "class Validate_Email_Class(Exception):\n",
    "    def __init__(self,mes):\n",
    "        self.mes=mes\n",
    "\n",
    "def Validate_Fun(string):\n",
    "    if \"@\" in string:\n",
    "        print(\"Email symbol is correct\")\n",
    "    else:\n",
    "        raise Validate_Email_Class('Try again....')\n",
    "    \n",
    "try :\n",
    "    sym1=Validate_Fun(string)\n",
    "    \n",
    "except Validate_Email_Class as e:\n",
    "    print(e)"
   ]
  },
  {
   "cell_type": "code",
   "execution_count": null,
   "id": "9153ffde",
   "metadata": {},
   "outputs": [],
   "source": []
  }
 ],
 "metadata": {
  "kernelspec": {
   "display_name": "Python 3 (ipykernel)",
   "language": "python",
   "name": "python3"
  },
  "language_info": {
   "codemirror_mode": {
    "name": "ipython",
    "version": 3
   },
   "file_extension": ".py",
   "mimetype": "text/x-python",
   "name": "python",
   "nbconvert_exporter": "python",
   "pygments_lexer": "ipython3",
   "version": "3.9.13"
  }
 },
 "nbformat": 4,
 "nbformat_minor": 5
}

{
 "cells": [
  {
   "cell_type": "markdown",
   "id": "ff69bf74",
   "metadata": {},
   "source": [
    "### Q1. What is an exception in python? Write the difference between Exception and Syntax error."
   ]
  },
  {
   "cell_type": "code",
   "execution_count": 22,
   "id": "eca6a4ed",
   "metadata": {},
   "outputs": [],
   "source": [
    "#### An error occurs in a program which prevents the program from \n",
    "#### completing its job. \n",
    "#### If we compare it with an exception then we can say that\n",
    "#### It is a condition that interrupts the normal flow of the program. \n",
    "#### Both errors and exceptions runtime error, which means they \n",
    "#### They occur during the execution of a program.\n",
    "\n",
    "\n",
    "#### Differences\n",
    "#### The syntax error is a common error\n",
    "#### It happened when we do any mistake in writing codes\n",
    "#### It occurs when the error is related to proagramming grammar\n",
    "#### We make syntactical error which creating function , block of codes.\n",
    "#### Actually it is like punctuation mark missing \n",
    "#### if we relate it with English\n",
    "#### On the other hand , Exception also breaks the normal flow of code\n",
    "#### But we can handle that with try except block\n",
    "#### And if it occurs then can avoid it\n",
    "#### But when syntactical error occurs then until we write the correct \n",
    "#### syntax for that particular statement it stops.\n",
    "#### In contrary, we can avoid that error in Exception and with the help\n",
    "#### of else or finally we can still run our program\n",
    "#### Its not possible in syntax error\n",
    "#### And syntax error is compile time error\n",
    "#### where Exception is runtime error or execution time error."
   ]
  },
  {
   "cell_type": "markdown",
   "id": "72e1f170",
   "metadata": {},
   "source": [
    "### Q2. What happens when exception is not handled? Explain with example"
   ]
  },
  {
   "cell_type": "code",
   "execution_count": 23,
   "id": "cc5e0e79",
   "metadata": {
    "scrolled": true
   },
   "outputs": [
    {
     "name": "stdout",
     "output_type": "stream",
     "text": [
      "Error occured.And it is division by zero\n"
     ]
    },
    {
     "ename": "ZeroDivisionError",
     "evalue": "division by zero",
     "output_type": "error",
     "traceback": [
      "\u001b[1;31m---------------------------------------------------------------------------\u001b[0m",
      "\u001b[1;31mZeroDivisionError\u001b[0m                         Traceback (most recent call last)",
      "Input \u001b[1;32mIn [23]\u001b[0m, in \u001b[0;36m<cell line: 24>\u001b[1;34m()\u001b[0m\n\u001b[0;32m     19\u001b[0m \u001b[38;5;66;03m#### Here program cannot run as its not handled\u001b[39;00m\n\u001b[0;32m     20\u001b[0m \u001b[38;5;66;03m#### So gives an error message and display the message\u001b[39;00m\n\u001b[0;32m     21\u001b[0m \u001b[38;5;66;03m#### Progrmas crashs.\u001b[39;00m\n\u001b[0;32m     22\u001b[0m \u001b[38;5;66;03m#### gives the error message \"ZeroDivisionError: division by zero\"\u001b[39;00m\n\u001b[0;32m     23\u001b[0m a\u001b[38;5;241m=\u001b[39m\u001b[38;5;241m10\u001b[39m\n\u001b[1;32m---> 24\u001b[0m \u001b[38;5;28;01mif\u001b[39;00m \u001b[43ma\u001b[49m\u001b[38;5;241;43m/\u001b[39;49m\u001b[38;5;241;43m0\u001b[39;49m:\n\u001b[0;32m     25\u001b[0m     \u001b[38;5;28mprint\u001b[39m(\u001b[38;5;124m\"\u001b[39m\u001b[38;5;124mDivisable\u001b[39m\u001b[38;5;124m\"\u001b[39m)\n\u001b[0;32m     26\u001b[0m \u001b[38;5;28;01melse\u001b[39;00m :\n",
      "\u001b[1;31mZeroDivisionError\u001b[0m: division by zero"
     ]
    }
   ],
   "source": [
    "#### If exception is not handled then program stops running\n",
    "#### And then we see an error message or 'File not found error'\n",
    "#### 'IO error','Arithmatic error','ZeroDivision error' etc\n",
    "\n",
    "\n",
    "#### Here program runs because of handling the error \n",
    "#### As we cannot divide any number with 0\n",
    "#### try block detects the error and throws it to except block\n",
    "#### then except block handles it\n",
    "#### thus this block of codes doesn't crush\n",
    "\n",
    "a=5\n",
    "try:\n",
    "    res=a/0\n",
    "    print(\"Result is \",res)\n",
    "except Exception as e:\n",
    "    print(f'Error occured.And it is {e}')\n",
    "    \n",
    "#### Here program cannot run as its not handled\n",
    "#### So gives an error message and display the message\n",
    "#### Progrmas crashs.\n",
    "#### gives the error message \"ZeroDivisionError: division by zero\"\n",
    "a=10\n",
    "if a/0:\n",
    "    print(\"Divisable\")\n",
    "else :\n",
    "    print(\"No\")"
   ]
  },
  {
   "cell_type": "markdown",
   "id": "00c6608b",
   "metadata": {},
   "source": [
    "### Q3. Which python statements are used to catch and handle exceptions? Explain with an example."
   ]
  },
  {
   "cell_type": "code",
   "execution_count": 24,
   "id": "8a8c8c2b",
   "metadata": {},
   "outputs": [
    {
     "name": "stdout",
     "output_type": "stream",
     "text": [
      "Error occured.And it is division by zero\n"
     ]
    }
   ],
   "source": [
    "a=5\n",
    "try:\n",
    "    res=a/0\n",
    "    print(\"Result is \",res)\n",
    "except Exception as e:\n",
    "    print(f'Error occured.And it is {e}')\n",
    "    \n",
    "#### Explanation...\n",
    "#### Here firstly we declare a variable a and give it a value 5\n",
    "#### Then when comes to try block it sees that res is not possible\n",
    "#### as we cannot divide by 0. \n",
    "#### Actually try block fetches the exception\n",
    "#### Then it throws that to except block\n",
    "#### except block checks which kind of block it is by using Exception class\n",
    "#### founds that error and using print statement we print it.\n",
    "#### Here try block is responsible for catching that error\n",
    "#### except block is responsible for manipulate that"
   ]
  },
  {
   "cell_type": "markdown",
   "id": "96e9cf5b",
   "metadata": {},
   "source": [
    "### Q4. Explain with example\n",
    "#### try and else\n",
    "#### finally\n",
    "#### raise"
   ]
  },
  {
   "cell_type": "code",
   "execution_count": 25,
   "id": "e89b9f6c",
   "metadata": {},
   "outputs": [
    {
     "name": "stdout",
     "output_type": "stream",
     "text": [
      "Result is  1.0\n",
      "Successful Execution\n",
      "\n",
      "Error occured.And it is division by zero\n",
      "Finally block always runs. Here with error\n",
      "\n",
      "Result is  2.5\n",
      "Finally block always runs. Here without error\n",
      "\n",
      "Win number\n",
      "Sry!!! you lost!\n"
     ]
    }
   ],
   "source": [
    "#### if try block successfuly excutes that code then else runs\n",
    "#### otherwise not\n",
    "#### finally will always run whether there error occurs or not\n",
    "#### when we need to create our own custom error message then we use raise\n",
    "#### with raise we create exception which is not in Exception inbuilt class\n",
    "\n",
    "#### try ... else\n",
    "a=5\n",
    "try:\n",
    "    res=a/5\n",
    "    print(\"Result is \",res)\n",
    "except Exception as e:\n",
    "    print(f'Error occured.And it is {e}')\n",
    "else:\n",
    "    print('Successful Execution')\n",
    "    \n",
    "print()    \n",
    "\n",
    "#### finally\n",
    "a=5\n",
    "try:\n",
    "    res=a/0\n",
    "    print(\"Result is \",res)\n",
    "except Exception as e:\n",
    "    print(f'Error occured.And it is {e}')\n",
    "finally:\n",
    "    print('Finally block always runs. Here with error')\n",
    "\n",
    "print()\n",
    "\n",
    "a=5\n",
    "try:\n",
    "    res=a/2\n",
    "    print(\"Result is \",res)\n",
    "except Exception as e:\n",
    "    print(f'Error occured.And it is {e}')\n",
    "finally:\n",
    "    print('Finally block always runs. Here without error')\n",
    "    \n",
    "print()\n",
    "\n",
    "#### raise\n",
    "number=10\n",
    "class Validate_Class(Exception):\n",
    "    def __init__(self,mes):\n",
    "        self.mes=mes\n",
    "\n",
    "def Validate_Fun(number):\n",
    "    if number%2==1:\n",
    "        print(\"Win number\")\n",
    "    else:\n",
    "        raise Validate_Class('Sry!!! you lost!')\n",
    "    \n",
    "try :\n",
    "    res=Validate_Fun(5)\n",
    "    res2=Validate_Fun(6)\n",
    "    \n",
    "except Validate_Class as e:\n",
    "    print(e)"
   ]
  },
  {
   "cell_type": "markdown",
   "id": "e21ddbf3",
   "metadata": {},
   "source": [
    "### Q5. What is custom exception ? Why we need that? Explain with example."
   ]
  },
  {
   "cell_type": "code",
   "execution_count": 26,
   "id": "4cec94cc",
   "metadata": {},
   "outputs": [
    {
     "name": "stdout",
     "output_type": "stream",
     "text": [
      "Lucky number\n",
      "Good luck next time\n"
     ]
    }
   ],
   "source": [
    "#### raise is custom exception\n",
    "#### we need that as our demand\n",
    "#### when we create our own app then it might be required that in some\n",
    "#### specific situation we cannot do that.\n",
    "#### and as an admin we want to notify an error message\n",
    "#### it custom so depends on the exception creator\n",
    "#### in which situation they need that\n",
    "#### for creation custom exception we inherits Mother Exception class\n",
    "#### It actually situation demands\n",
    "\n",
    "#### example\n",
    "number=5\n",
    "class Validate_Class(Exception):\n",
    "    def __init__(self,mes):\n",
    "        self.mes=mes\n",
    "\n",
    "def Validate_Fun(number):\n",
    "    if number%5==0:\n",
    "        print(\"Lucky number\")\n",
    "    else:\n",
    "        raise Validate_Class('Good luck next time')\n",
    "    \n",
    "try :\n",
    "    res=Validate_Fun(50)\n",
    "    res2=Validate_Fun(56)\n",
    "    \n",
    "except Validate_Class as e:\n",
    "    print(e)"
   ]
  },
  {
   "cell_type": "markdown",
   "id": "de4f34cf",
   "metadata": {},
   "source": [
    "### Q6. Create custom exception class. Handle exception with that"
   ]
  },
  {
   "cell_type": "code",
   "execution_count": 27,
   "id": "68370025",
   "metadata": {},
   "outputs": [
    {
     "name": "stdout",
     "output_type": "stream",
     "text": [
      "Enter Email symbol or notation::#\n",
      "Try again....\n"
     ]
    }
   ],
   "source": [
    "string=input(\"Enter Email symbol or notation::\")\n",
    "class Validate_Email_Class(Exception):\n",
    "    def __init__(self,mes):\n",
    "        self.mes=mes\n",
    "\n",
    "def Validate_Fun(string):\n",
    "    if \"@\" in string:\n",
    "        print(\"Email symbol is correct\")\n",
    "    else:\n",
    "        raise Validate_Email_Class('Try again....')\n",
    "    \n",
    "try :\n",
    "    sym1=Validate_Fun(string)\n",
    "    \n",
    "except Validate_Email_Class as e:\n",
    "    print(e)"
   ]
  },
  {
   "cell_type": "code",
   "execution_count": null,
   "id": "9153ffde",
   "metadata": {},
   "outputs": [],
   "source": []
  }
 ],
 "metadata": {
  "kernelspec": {
   "display_name": "Python 3 (ipykernel)",
   "language": "python",
   "name": "python3"
  },
  "language_info": {
   "codemirror_mode": {
    "name": "ipython",
    "version": 3
   },
   "file_extension": ".py",
   "mimetype": "text/x-python",
   "name": "python",
   "nbconvert_exporter": "python",
   "pygments_lexer": "ipython3",
   "version": "3.9.12"
  }
 },
 "nbformat": 4,
 "nbformat_minor": 5
}
